{
 "cells": [
  {
   "cell_type": "code",
   "execution_count": 34,
   "id": "73cf3b28",
   "metadata": {},
   "outputs": [
    {
     "name": "stdout",
     "output_type": "stream",
     "text": [
      "Chat messages for https://www.lse.co.uk/ShareChat.html?ShareTicker=DARK&share=Darktrace:\n",
      "For me, it's not a good thing it's an all cash offer. There's so much more value to be had with DARK. A cash and share offer (50/50) from a US Cyber Company would be far better value without even considering an uplift in the offer price.\n",
      "Yes cash not shares agree ! TB could still be Gazumped ! I am on my hands and knees now , praying a white knight comes in and offers more ( well figuratively speaking ) … then I don’t mind if TB get it for 800 p and above ! For no reason 620 we feel ripped off and Dark has good positive momentum\n",
      "Well said The Mike lynch uncertainty probably was too much for Poppy\n",
      "I have always invested for the long term and have a few possible high growth stocks. Darktrace was a company I was happy to hold for 10yrs but that opportunity has been ripped from my portfolio. It will now be in the hands of TB who in a few years will make billions on resale or resisting. 620 does not represent anything like a fair price. Some will be more than happy to sell but not me.\n",
      "Very wel done here Not many IPOs have done as well as DARK, offer is 190%premium As for ideas Im biased as I've invested quite alot in PYC They're the only AIM listed company that has the A.I tech to allow drug companies to specifically test their drugs pre FDA submissions They have 30+main clients and growing £1.8mlm cap with revenue's growing to £900k which should be enough for breakeven , pipeline grown 50% in 5mths to £1.5mln A brilliant poster called Ant on there\n",
      "I'm spreading my proceeds in CRTA, THG, SFOR and ASC. All are at very low prices currently. CRTA looks so interesting, anyone getting in now is in at the ground level, just before they make further quarterly announcements showing their contract wins lead to free cash flow positive status by the end of the year. I do not reckon this will stay independent much longer once they confirm the various wins. This will rocket in due course. As for THG - well an army of you out there can confirm how cheap that one is! As for ASC, we have Frasers [Mike Ashley] amassing a 27% stake, the current share price is on the floor, and trading is expected to improve???Am I missing something? This is an obvious takeover target. Lastly, SFOR - well this is completely underpriced compared to its peers. But again, this seems to be a feature of companies with well known leaders like THG. Under Sir Martin Sorrell, this company is turning round at a rate of knots, the market merely has not caught up with it. All companies go through trading cycles - it seems to me now that there are many companies - such as the above four - where the market has just not caught up with where they are in that trading cycle. A lot of money to be made out there, as ever, DYOR and good luck.\n",
      "ForgeRock did list on US vs UK or Norway but still drifted is the point\n",
      "TB are paying in cash. How they get it matters not. They are cash buyers!\n",
      "Are some shorts still short ?\n",
      "Sheltie TB are not a cash buyer exactly , they willl raise I see in news 1 to 2 billion , I forget which currency The board like TB , and the board recommends accept But behind the scenes Jeffries and other tmt investment bankers hungry for commission fees might just find another buyer ( in the end TB might need to up their offer )\n",
      "If you don’t believe they will drift look at ForgeRock, UK based, offered to buy by TB in Oct 22 “ ForgeRock shareholders to receive $23.25 per share in cash”. It took until Aug 23 to complete (10 months) and you can see the drift down here https://www.macrotrends.net/stocks/charts/FORG/forgerock/stock-price-history#:~:text=The%20all%2Dtime%20high%20ForgeRock,below%20the%20current%20share%20price. Over 9 months with GBP/USD forecast this will be in 560s Who wants to hold money 9 months watching it go down\n",
      "The Ceo should be dismissed with immediate effect No way the shares are going to drift down,quite the opposite\n",
      "Which is why the SP will drift down to the 560s/570 mark waiting until Q4 & voting etc\n",
      "You can tell it is raining. Fair value for the SHs, the BoD claim, when their own broker, who advised them on this takeover, recently said the intrinsic value was much higher. You sell when above intrinsic value and buy below intrinsic value. The BoD selling “low” is a travesty, and demonstrates my long term view that the BoD is, and always was, negligent in looking after the interests of all of its shareholders. An appalling negotiation and done rapidly according to the Sunday Times. ‘“Andrew Almeida, a strait-laced partner of the firm based in Miami with a focus on cybersecurity investments, approached Darktrace’s board — led by chairman Gordon Hurst, a former chief financial officer at the outsourcing company Capita — again in mid-March. This was shortly after Lynch, facing trial, and his wife had significantly sold down their stakes in the business. It took until Friday morning last week for Almeida and Hurst to agree on the final deal.” What a pathetic negotiator our Chairman is.\n",
      "Watch for Luminance IPO They’ve had 6 rounds of funding so are set for IPO Only on Series B & don’t usually IPO until Series C But keep eyes on that one\n",
      "I'm not sure another bidder will emerge, but I think it's far from a slam dunk that the existing IIs will accept 620. If they're British based IIs then they too will be subject to any loss on ER. 14.4% is a very very low place to start from when you need 75% support. It wouldn't surprise me if TB simply had to raise their bid because shareholders won't accept 620.\n",
      "The bidders dont own enough shares they will have to up their offer for shareholders to accept or another bidder will emerge This ends up well over 1000p a share\n",
      "If anyones interested, current forecast for USD GBP exchange rate for the end of the year Month / Low Forecast / High Forecast October 1.289-1.329 November 1.309-1.354 December 1.334-1.388 Current is 1.25, so there's a pretty solid 5% wrong-side risk there. 8% is obviously taking the high side forecast for rate and the longer time frame.\n",
      "I agree the offer should be made in GBP & TB take the USD conversion hit\n",
      "A bit like your big money premier league transfer. Player (Poppy) might want to go to Liverpool (TB) but if Man City come in a bid more then Liverpool will either need to match the bid or lose out. It doesn't much matter what Poppy wants, the shareholders won't accept 620 if an offer lands on the table of 675, particularly if 620 looks like it might only be worth 580 in 6 months. Why the hell are they allowed to make a bid for a British Co, with British HQ, listed in Britain, in f*****g USD anyway?\n",
      "Https://www.tipranks.com/stocks/gb:dark/ownership# They have 14.4% from KKR DA, Summit Partners, Director & Senior employees\n",
      "Sheltie you could be right, but there is nothing certain about the future except death and taxes (Benjamin Franklin).\n",
      "We will see with the plethora of Form 8.3 RNSs this week as all 1 percenters declare\n",
      "This will 100% go through. TB are a CASH buyer . . . .\n",
      "Talking of odds of the takeover succeding: ‘Schemes of arrangement provide a more certain path to success. Consistent with 2020, we saw schemes of arrangement deliver much higher success rates as compared to takeovers in 2021 (90% vs 55%).15 Mar 2022” Given the holdings of the original investors, EBT, and employees set to get £440m (Sunday Times), maybe the odds are more likely to be 99% plus.\n",
      "Chat messages for https://www.lse.co.uk/ShareChat.html?ShareTicker=DARK&share=Darktrace&page=2:\n",
      "I can see this drifting towards 560s the longer it drags out so the sooner they get it done or new bidders declare interest the better for holders\n",
      "Bravo are a good fit , but Jeffries might be able to find another buyer with deep pockets Because now everyone knows Darl is up for sale Bravo are good robber barons Don’t forget staff and directors and other shareholders want more higher price , there is pressure to vote no , and pressure to get the price higher The USD exchange rate is certainly a a head wind for us to get 620 even …. At this price we are all screwed out of what could have been\n",
      "And I am 99% percent the deal will go through, Poppy et all become mega rich and the LSE becomes more of a laughing stock\n",
      "Love it https://www.ft.com/content/40a01e74-7eb1-4d76-a34a-1e7fdb827bbe\n",
      "Yes the USD pound exchange rate likely not move in our favor Jeffries will do it’s best to increase the offer and start a bidding War , I am 69 % sure the price will jump towards 821.5 p\n",
      "Forecast is 1.37 USD/GBP Nov 2024 $7.75 = £5.66 some 8.7% below offer in Apr 2024\n",
      "$7.75 @ 1.25 = £6.20 Variance 1.2 to 1.4 @ 1.2 = £6.46 @ 1.3 = £5.96 @ 1.4 = £5.54\n",
      "Also in 8-9 months the USD to GBP could easily fluctuate 1.2 to 1.4 $7.75 could easily £5.95 which is why I think it will hover around 600 Unlikely we will see 1.2 lows USD/GBP A stronger £ isn’t good news for this deal over an 8-9 month period\n",
      "I have to agree. They have prior connectivity having rebuffed them previously. i cannot see anyone making a move to step in so £6.20 seems right to me once contracts finalised.\n",
      "I bought AA in 2020 when in trouble and talks of takeover started and came and went with withdrawn offer/failed offer Bought 15 Sold 30 Bought in again 22 Sold 40 Bought in again 22 sold 36 Stopped there but it did go 36 down 32 back 36 Before final sale Anything can happen here They state it won’t get through court & vote until late Q3/Q4 4-9 months of fun here I’ll sure be trading any drops on negative news or share price drifts as people sell (like I did) to get stagnant cash out - why leave it sitting idle for potentially 8 months?\n",
      "Clank - no it will have no impact, as the offer has now been made. I very much doubt anyone else will step in either; like highly unlikely. So, £6.20 (give or take depending on the US v GBP exchange rate) is what you will receive when the contracts are finalised. ATB\n",
      "Please excuse the naive question, but if a majority of shareholders decide to sell next week and take their profits, wont that cause the share price to tumble from it's current price regardless of any prospective bidding war?\n",
      "Hi CR888, No problem, Mirriad's problem is that its totally flown under the radar for so long, personally I'd never heard of the company until the 8th of April, but dig deeper with the help of a couple of oracles on where all its tentacles go & suddenly you see a £100M+ company staring you in the face & I'm not just saying that. go here https://www.mirriadplc.com/investor-relations/reports-and-documents & download the 25th August 2023 presentation. Page 7 & you'll soon get the idea, but it might not be for you. As for trends, well Helium is the one that will definitely explode, trouble is no-one yet has found a viable source of it. Yes exploration is now occurring but all the targets have unanswered question including London listed HE1 & HEX so not worth going there yet, but Helium is a dead cert because of the absolutely dire need for it. If I come across anything of note I'll let you know. Good Luck LOTM\n",
      "Share and fund ideas listed in Uk welcome\n",
      "Thanks for your idea I am looking for medium risk although can do a few smaller puts on things like your idea For example China is low now , so maybe buy some china funds and wait 3 to 5 years , almost sure bet for 30 per cent up Or liontrust is low ? Brwm is low a commodity fund ? Big trends that we ca buy into\n",
      "Hi CR888, Re \"Darktrace is Sexy...........whether 620 p or 820p .....where to invest the proceeds.... which UK listed funds or Shares are low now with a 25% upside or more , within next 12 months ??? your top 3 ideas??? AI Cyber/UK the leader in big industry in UK https://sponsorcontent.cnn.com/edition/2024/ukdbt/cyber-scaleups-are-experiencing-significant-growth-in-the-uk/?utm_medium=cnn&utm_source=hpnat&utm_campaign=ukdbt_A3_emea \" It might not tick all your boxes, but will for AI & the potential upside is multiples of your 25% target. Mirriad - MIRI I know its small right now but worth checking out, has a collaboration with Microsoft & Microsoft have done a webinar with them that has yet to be published. They have 40% of USA Content providers signed up & talking to another of the top 3 that would take them to over 55% of the market. Some of those Content providers are going to showcase the Mirriad solution in there highly anticipated TV Upfronts 2024 presentations in May, starting possibly on May 13/14th, can't be sure because Mirriad has never officially named the signed Content providers. & yet here we are, where some of those Content providers are going to reveal themselves. Good luck with your research & hopefully a better offer price for DARK LOTM\n",
      "Thanks HKK , Lending If the vote fails to pass we face a drop of 80 p to 530 p then a rise towards 600 p if ML court case not derail Poppy and Dark ( 10 per cent chance ) Dark board have been promised something by Bravo and KKR wants cash out with the other But but but KKR and the other one , would love to see a higher price now with second bid from others ( because one Dark is sold it’s colds ) and KKR are greedy So likely Dark will receive another Bid Therefore 820 could be more or less final price after Bravo up their price This scenario not so unlikely 40 per cent likely ?\n",
      "HKK - I like your reasoning, and I’m sure you are right regarding 1. Rereading the RNS it seems to me that DT was leading the aagenda and KKR and Summir were at te forefront. The whole tone of the RNS too, is on how DT will prosper better under TB than our own BoD. If that is not an admission of inc ompetence by our BoD what is it?\n",
      "Who controls how many votes ? Can someone add up the votes ?\n",
      "Good analysis HKK If Poppy thinks 620 p saves dark from court case and she still need to testify ? Then 620 p could be it , however I think there is a 30 per cent chance for Jeffries to find another buyer at 720 to 750 p … because they announced 890 p recently I sense they knew this bid was coming How long does a new bidder have ? 30 days or 60 ? Or 90 ? When will the vote be ? I am not sure how many shares the big shareholders have ? How much does retail have .. I sense the vote might pass the sale if no better bidder comes Investment banks are hungry for deals , huge lack of IPO and M and A … I am sure more than Jeffries Ibd are trying their luck to find a buyer … I am still holding … Dark in the hope a new buyer emerges Then we could have 720 to 750 I still think Bravo are a good partner for Dark so they may increase to 820 p and we are all sadly bought out ! 820 is my target I believe even if 620 is not approved by a vote , Dark shares will still get there within this year ( but I will miss out buying on the dip )\n",
      "As i previously commented There are still a few scenarios at play here as they stated Q3/Q4 until its possibly gets done, thus; 1. Alternative offers come through push over 620 2. It fails vote and SP drops 25-35% like 2022 3. It goes to vote and is approved at 620 I sold my entire holding at 620 because if scenario 3 comes to play (high probability) then I've got my cash now vs leaving as dead wood until Q4. It also allows me to jump back in should scenario 2 happen (possible but less likely but could happen). Scenario 1 is the only one I potentially loose on but this is least likely.\n",
      "We brits love short selling and killing our own companies which is why the LSE is a joke of a market\n",
      "This pathetic offer that makes the Ceo a multi millionaire and makes Thoma Bravo billions in profit overnight should be rejected. It does not begin to reflect the true value of Darktrace\n",
      "I though Poppy already testified at ML cour case in advance? The only she can do now is ak Jeffries to hurry up and find anothe buyere 750p to 820p ....lets see\n",
      "Darktrace departure casts a shadow over the City (The Times) A previous bid may have been described as a “distraction” by its chief executive, but there was no dismissing the significance yesterday of Darktrace’s decision to agree a £4.3 billion takeover deal with an American private equity suitor and to walk away from the London stock market. After a turbulent life as a listed entity, the British cybersecurity company has accepted a cash offer from Thoma Bravo, the private equity firm that had abandoned a previous tilt at the Cambridge-based business. As a result, Darktrace will quit the glare of public markets that had become increasingly fierce as the company was beset by multiple short-seller attacks and by questions over its links to Mike Lynch, the technology entrepreneur who was extradited to the United States. Lynch, 58, is on trial over charges relating to the sale of Autonomy, another company he founded, to Hewlett-Packard for $11.1 billion in 2011. The American buyer wrote down the value of its acquisition a year after the purchase and alleged that the British business had engaged in “serious accounting improprieties”. Lynch has denied all charges. Lynch was a founding investor in Darktrace and, while he has no formal role within the company, remains a significant shareholder alongside his wife, Angela Bacares. Poppy Gustafsson, 41, Darktrace’s chief executive, has been regarded as his protégé after working in Autonomy’s finance department between 2009 and 2011. She is due to give evidence at Lynch’s trial. Darktrace uses artificial intelligence and machine learning to detect vulnerabilities in its clients’ computer systems and to provide protection against cyberattacks. Its AI systems seek to identify when digital activity diverges from normal patterns. The business was floated in April 2021 at 250p a share, giving it a valuation of £1.7 billion. The shares rose to about 945p during the year of its market debut, but came under pressure as short-sellers made allegations about the state of its finances. Andrew Ripper, an analyst at Liberum, the broker, said Lynch’s legacy had been an issue for Darktrace. “There are quite a few people within the company who are ex-Autonomy,” he said. “Lynch and people associated with him had a holding in the business and that has been a factor in the share price volatility and investability for institutional investors who are concerned about governance and history. “The board has done the right thing to make the company more investable over time, such as more independent non-executive directors.” One City source said: “In the case of Darktrace, the main discount was the legacy of Mike Lynch. Obviously it’s not good news for the UK stock market because they were starting to cleanse themselves. All that hard work will go to Thoma Bravo or someone else.” Thoma Bravo, a specialist technology investor, made its first approach for Darktrace in 2022, but walke\n"
     ]
    }
   ],
   "source": [
    "import requests\n",
    "from bs4 import BeautifulSoup\n",
    "\n",
    "# Define a custom User-Agent header\n",
    "headers = {\n",
    "    'User-Agent': 'Mozilla/5.0 (Windows NT 10.0; Win64; x64) AppleWebKit/537.36 (KHTML, like Gecko) Chrome/58.0.3029.110 Safari/537.3'\n",
    "}\n",
    "\n",
    "# List of URLs to scrape\n",
    "urls = [\n",
    "    'https://www.lse.co.uk/ShareChat.html?ShareTicker=DARK&share=Darktrace',\n",
    "    'https://www.lse.co.uk/ShareChat.html?ShareTicker=DARK&share=Darktrace&page=2'\n",
    "]\n",
    "\n",
    "# Iterate through each URL\n",
    "for url in urls:\n",
    "    # Send a GET request to the website with the custom User-Agent header\n",
    "    response = requests.get(url, headers=headers)\n",
    "\n",
    "    # Check if the request was successful\n",
    "    if response.status_code == 200:\n",
    "        # Parse the HTML content\n",
    "        soup = BeautifulSoup(response.text, 'html.parser')\n",
    "\n",
    "        # Find all elements containing the chat messages\n",
    "        chat_messages = soup.find_all('p', class_='share-chat-message__message-text')\n",
    "\n",
    "        # Extract and print the text of each chat message\n",
    "        print(f\"Chat messages for {url}:\")\n",
    "        for message in chat_messages:\n",
    "            print(message.get_text().strip())\n",
    "    else:\n",
    "        print(f\"Failed to retrieve data from the website ({url}). Status code:\", response.status_code)\n"
   ]
  },
  {
   "cell_type": "code",
   "execution_count": 35,
   "id": "a5e87cd6",
   "metadata": {},
   "outputs": [
    {
     "name": "stdout",
     "output_type": "stream",
     "text": [
      "Aggregated Message Text: I can see this drifting towards 560s the longer it drags out so the sooner they get it done or new bidders declare interest the better for holders Bravo are a good fit , but Jeffries might be able to find another buyer with deep pockets Because now everyone knows Darl is up for sale Bravo are good robber barons Don’t forget staff and directors and other shareholders want more higher price , there is pressure to vote no , and pressure to get the price higher The USD exchange rate is certainly a a head wind for us to get 620 even …. At this price we are all screwed out of what could have been And I am 99% percent the deal will go through, Poppy et all become mega rich and the LSE becomes more of a laughing stock Love it https://www.ft.com/content/40a01e74-7eb1-4d76-a34a-1e7fdb827bbe Yes the USD pound exchange rate likely not move in our favor Jeffries will do it’s best to increase the offer and start a bidding War , I am 69 % sure the price will jump towards 821.5 p Forecast is 1.37 USD/GBP Nov 2024 $7.75 = £5.66 some 8.7% below offer in Apr 2024 $7.75 @ 1.25 = £6.20 Variance 1.2 to 1.4 @ 1.2 = £6.46 @ 1.3 = £5.96 @ 1.4 = £5.54 Also in 8-9 months the USD to GBP could easily fluctuate 1.2 to 1.4 $7.75 could easily £5.95 which is why I think it will hover around 600 Unlikely we will see 1.2 lows USD/GBP A stronger £ isn’t good news for this deal over an 8-9 month period I have to agree. They have prior connectivity having rebuffed them previously. i cannot see anyone making a move to step in so £6.20 seems right to me once contracts finalised. I bought AA in 2020 when in trouble and talks of takeover started and came and went with withdrawn offer/failed offer Bought 15 Sold 30 Bought in again 22 Sold 40 Bought in again 22 sold 36 Stopped there but it did go 36 down 32 back 36 Before final sale Anything can happen here They state it won’t get through court & vote until late Q3/Q4 4-9 months of fun here I’ll sure be trading any drops on negative news or share price drifts as people sell (like I did) to get stagnant cash out - why leave it sitting idle for potentially 8 months? Clank - no it will have no impact, as the offer has now been made. I very much doubt anyone else will step in either; like highly unlikely. So, £6.20 (give or take depending on the US v GBP exchange rate) is what you will receive when the contracts are finalised. ATB Please excuse the naive question, but if a majority of shareholders decide to sell next week and take their profits, wont that cause the share price to tumble from it's current price regardless of any prospective bidding war? Hi CR888, No problem, Mirriad's problem is that its totally flown under the radar for so long, personally I'd never heard of the company until the 8th of April, but dig deeper with the help of a couple of oracles on where all its tentacles go & suddenly you see a £100M+ company staring you in the face & I'm not just saying that. go here https://www.mirriadplc.com/investor-relations/reports-and-documents & download the 25th August 2023 presentation. Page 7 & you'll soon get the idea, but it might not be for you. As for trends, well Helium is the one that will definitely explode, trouble is no-one yet has found a viable source of it. Yes exploration is now occurring but all the targets have unanswered question including London listed HE1 & HEX so not worth going there yet, but Helium is a dead cert because of the absolutely dire need for it. If I come across anything of note I'll let you know. Good Luck LOTM Share and fund ideas listed in Uk welcome Thanks for your idea I am looking for medium risk although can do a few smaller puts on things like your idea For example China is low now , so maybe buy some china funds and wait 3 to 5 years , almost sure bet for 30 per cent up Or liontrust is low ? Brwm is low a commodity fund ? Big trends that we ca buy into Hi CR888, Re \"Darktrace is Sexy...........whether 620 p or 820p .....where to invest the proceeds.... which UK listed funds or Shares are low now with a 25% upside or more , within next 12 months ??? your top 3 ideas??? AI Cyber/UK the leader in big industry in UK https://sponsorcontent.cnn.com/edition/2024/ukdbt/cyber-scaleups-are-experiencing-significant-growth-in-the-uk/?utm_medium=cnn&utm_source=hpnat&utm_campaign=ukdbt_A3_emea \" It might not tick all your boxes, but will for AI & the potential upside is multiples of your 25% target. Mirriad - MIRI I know its small right now but worth checking out, has a collaboration with Microsoft & Microsoft have done a webinar with them that has yet to be published. They have 40% of USA Content providers signed up & talking to another of the top 3 that would take them to over 55% of the market. Some of those Content providers are going to showcase the Mirriad solution in there highly anticipated TV Upfronts 2024 presentations in May, starting possibly on May 13/14th, can't be sure because Mirriad has never officially named the signed Content providers. & yet here we are, where some of those Content providers are going to reveal themselves. Good luck with your research & hopefully a better offer price for DARK LOTM Thanks HKK , Lending If the vote fails to pass we face a drop of 80 p to 530 p then a rise towards 600 p if ML court case not derail Poppy and Dark ( 10 per cent chance ) Dark board have been promised something by Bravo and KKR wants cash out with the other But but but KKR and the other one , would love to see a higher price now with second bid from others ( because one Dark is sold it’s colds ) and KKR are greedy So likely Dark will receive another Bid Therefore 820 could be more or less final price after Bravo up their price This scenario not so unlikely 40 per cent likely ? HKK - I like your reasoning, and I’m sure you are right regarding 1. Rereading the RNS it seems to me that DT was leading the aagenda and KKR and Summir were at te forefront. The whole tone of the RNS too, is on how DT will prosper better under TB than our own BoD. If that is not an admission of inc ompetence by our BoD what is it? Who controls how many votes ? Can someone add up the votes ? Good analysis HKK If Poppy thinks 620 p saves dark from court case and she still need to testify ? Then 620 p could be it , however I think there is a 30 per cent chance for Jeffries to find another buyer at 720 to 750 p … because they announced 890 p recently I sense they knew this bid was coming How long does a new bidder have ? 30 days or 60 ? Or 90 ? When will the vote be ? I am not sure how many shares the big shareholders have ? How much does retail have .. I sense the vote might pass the sale if no better bidder comes Investment banks are hungry for deals , huge lack of IPO and M and A … I am sure more than Jeffries Ibd are trying their luck to find a buyer … I am still holding … Dark in the hope a new buyer emerges Then we could have 720 to 750 I still think Bravo are a good partner for Dark so they may increase to 820 p and we are all sadly bought out ! 820 is my target I believe even if 620 is not approved by a vote , Dark shares will still get there within this year ( but I will miss out buying on the dip ) As i previously commented There are still a few scenarios at play here as they stated Q3/Q4 until its possibly gets done, thus; 1. Alternative offers come through push over 620 2. It fails vote and SP drops 25-35% like 2022 3. It goes to vote and is approved at 620 I sold my entire holding at 620 because if scenario 3 comes to play (high probability) then I've got my cash now vs leaving as dead wood until Q4. It also allows me to jump back in should scenario 2 happen (possible but less likely but could happen). Scenario 1 is the only one I potentially loose on but this is least likely. We brits love short selling and killing our own companies which is why the LSE is a joke of a market This pathetic offer that makes the Ceo a multi millionaire and makes Thoma Bravo billions in profit overnight should be rejected. It does not begin to reflect the true value of Darktrace I though Poppy already testified at ML cour case in advance? The only she can do now is ak Jeffries to hurry up and find anothe buyere 750p to 820p ....lets see Darktrace departure casts a shadow over the City (The Times) A previous bid may have been described as a “distraction” by its chief executive, but there was no dismissing the significance yesterday of Darktrace’s decision to agree a £4.3 billion takeover deal with an American private equity suitor and to walk away from the London stock market. After a turbulent life as a listed entity, the British cybersecurity company has accepted a cash offer from Thoma Bravo, the private equity firm that had abandoned a previous tilt at the Cambridge-based business. As a result, Darktrace will quit the glare of public markets that had become increasingly fierce as the company was beset by multiple short-seller attacks and by questions over its links to Mike Lynch, the technology entrepreneur who was extradited to the United States. Lynch, 58, is on trial over charges relating to the sale of Autonomy, another company he founded, to Hewlett-Packard for $11.1 billion in 2011. The American buyer wrote down the value of its acquisition a year after the purchase and alleged that the British business had engaged in “serious accounting improprieties”. Lynch has denied all charges. Lynch was a founding investor in Darktrace and, while he has no formal role within the company, remains a significant shareholder alongside his wife, Angela Bacares. Poppy Gustafsson, 41, Darktrace’s chief executive, has been regarded as his protégé after working in Autonomy’s finance department between 2009 and 2011. She is due to give evidence at Lynch’s trial. Darktrace uses artificial intelligence and machine learning to detect vulnerabilities in its clients’ computer systems and to provide protection against cyberattacks. Its AI systems seek to identify when digital activity diverges from normal patterns. The business was floated in April 2021 at 250p a share, giving it a valuation of £1.7 billion. The shares rose to about 945p during the year of its market debut, but came under pressure as short-sellers made allegations about the state of its finances. Andrew Ripper, an analyst at Liberum, the broker, said Lynch’s legacy had been an issue for Darktrace. “There are quite a few people within the company who are ex-Autonomy,” he said. “Lynch and people associated with him had a holding in the business and that has been a factor in the share price volatility and investability for institutional investors who are concerned about governance and history. “The board has done the right thing to make the company more investable over time, such as more independent non-executive directors.” One City source said: “In the case of Darktrace, the main discount was the legacy of Mike Lynch. Obviously it’s not good news for the UK stock market because they were starting to cleanse themselves. All that hard work will go to Thoma Bravo or someone else.” Thoma Bravo, a specialist technology investor, made its first approach for Darktrace in 2022, but walke\n",
      "Sentiment: positive\n",
      "Sentiment Score: 0.0915695544019244\n"
     ]
    }
   ],
   "source": [
    "from textblob import TextBlob\n",
    "\n",
    "# Concatenate the text of all chat messages\n",
    "all_messages_text = ' '.join([message.get_text().strip() for message in chat_messages])\n",
    "\n",
    "# Perform sentiment analysis using TextBlob\n",
    "blob = TextBlob(all_messages_text)\n",
    "sentiment_score = blob.sentiment.polarity  # Polarity score between -1 (negative) and 1 (positive)\n",
    "\n",
    "# Classify sentiment based on polarity score\n",
    "if sentiment_score > 0:\n",
    "    sentiment = 'positive'\n",
    "elif sentiment_score < 0:\n",
    "    sentiment = 'negative'\n",
    "else:\n",
    "    sentiment = 'neutral'\n",
    "\n",
    "# Print the aggregated message text, sentiment, and sentiment score\n",
    "print(\"Aggregated Message Text:\", all_messages_text)\n",
    "print(\"Sentiment:\", sentiment)\n",
    "print(\"Sentiment Score:\", sentiment_score)"
   ]
  },
  {
   "cell_type": "code",
   "execution_count": null,
   "id": "6e6ebd03",
   "metadata": {},
   "outputs": [],
   "source": []
  }
 ],
 "metadata": {
  "kernelspec": {
   "display_name": "Python 3 (ipykernel)",
   "language": "python",
   "name": "python3"
  },
  "language_info": {
   "codemirror_mode": {
    "name": "ipython",
    "version": 3
   },
   "file_extension": ".py",
   "mimetype": "text/x-python",
   "name": "python",
   "nbconvert_exporter": "python",
   "pygments_lexer": "ipython3",
   "version": "3.11.5"
  }
 },
 "nbformat": 4,
 "nbformat_minor": 5
}
